{
 "cells": [
  {
   "cell_type": "markdown",
   "metadata": {},
   "source": [
    "# Predictions Facebook Stocks "
   ]
  },
  {
   "cell_type": "markdown",
   "metadata": {},
   "source": [
    "### Description: This program predicts the price of FB stocks for a specific day using the Machine Learning algorithm  called Support Vector Regression (SVR) Model\n"
   ]
  },
  {
   "cell_type": "code",
   "execution_count": 1,
   "metadata": {},
   "outputs": [],
   "source": [
    "# import the packages \n",
    "import pandas as pd\n",
    "import numpy as np\n",
    "from sklearn.svm import SVR\n",
    "import matplotlib.pyplot as plt"
   ]
  },
  {
   "cell_type": "code",
   "execution_count": 2,
   "metadata": {},
   "outputs": [
    {
     "data": {
      "text/html": [
       "<div>\n",
       "<style scoped>\n",
       "    .dataframe tbody tr th:only-of-type {\n",
       "        vertical-align: middle;\n",
       "    }\n",
       "\n",
       "    .dataframe tbody tr th {\n",
       "        vertical-align: top;\n",
       "    }\n",
       "\n",
       "    .dataframe thead th {\n",
       "        text-align: right;\n",
       "    }\n",
       "</style>\n",
       "<table border=\"1\" class=\"dataframe\">\n",
       "  <thead>\n",
       "    <tr style=\"text-align: right;\">\n",
       "      <th></th>\n",
       "      <th>Time</th>\n",
       "      <th>Open</th>\n",
       "      <th>High</th>\n",
       "      <th>Low</th>\n",
       "      <th>Last</th>\n",
       "      <th>Change</th>\n",
       "      <th>Volume</th>\n",
       "    </tr>\n",
       "  </thead>\n",
       "  <tbody>\n",
       "    <tr>\n",
       "      <th>0</th>\n",
       "      <td>5/29/2020</td>\n",
       "      <td>225.20</td>\n",
       "      <td>227.4900</td>\n",
       "      <td>222.8800</td>\n",
       "      <td>225.09</td>\n",
       "      <td>-0.37</td>\n",
       "      <td>23322400</td>\n",
       "    </tr>\n",
       "    <tr>\n",
       "      <th>1</th>\n",
       "      <td>5/28/2020</td>\n",
       "      <td>224.30</td>\n",
       "      <td>231.6332</td>\n",
       "      <td>224.0000</td>\n",
       "      <td>225.46</td>\n",
       "      <td>-3.68</td>\n",
       "      <td>29423000</td>\n",
       "    </tr>\n",
       "    <tr>\n",
       "      <th>2</th>\n",
       "      <td>5/27/2020</td>\n",
       "      <td>229.07</td>\n",
       "      <td>230.5600</td>\n",
       "      <td>221.1347</td>\n",
       "      <td>229.14</td>\n",
       "      <td>-3.06</td>\n",
       "      <td>34697500</td>\n",
       "    </tr>\n",
       "    <tr>\n",
       "      <th>3</th>\n",
       "      <td>5/26/2020</td>\n",
       "      <td>239.77</td>\n",
       "      <td>240.9000</td>\n",
       "      <td>231.6700</td>\n",
       "      <td>232.20</td>\n",
       "      <td>-2.71</td>\n",
       "      <td>33178300</td>\n",
       "    </tr>\n",
       "    <tr>\n",
       "      <th>4</th>\n",
       "      <td>5/22/2020</td>\n",
       "      <td>231.51</td>\n",
       "      <td>235.9900</td>\n",
       "      <td>228.7400</td>\n",
       "      <td>234.91</td>\n",
       "      <td>3.52</td>\n",
       "      <td>33925500</td>\n",
       "    </tr>\n",
       "  </tbody>\n",
       "</table>\n",
       "</div>"
      ],
      "text/plain": [
       "        Time    Open      High       Low    Last  Change    Volume\n",
       "0  5/29/2020  225.20  227.4900  222.8800  225.09   -0.37  23322400\n",
       "1  5/28/2020  224.30  231.6332  224.0000  225.46   -3.68  29423000\n",
       "2  5/27/2020  229.07  230.5600  221.1347  229.14   -3.06  34697500\n",
       "3  5/26/2020  239.77  240.9000  231.6700  232.20   -2.71  33178300\n",
       "4  5/22/2020  231.51  235.9900  228.7400  234.91    3.52  33925500"
      ]
     },
     "execution_count": 2,
     "metadata": {},
     "output_type": "execute_result"
    }
   ],
   "source": [
    "# Load the data\n",
    "df = pd.read_csv('D:/Downloads/fb_price-history-05-30-2020.csv')\n",
    "df.head()"
   ]
  },
  {
   "cell_type": "code",
   "execution_count": 3,
   "metadata": {},
   "outputs": [],
   "source": [
    "# Create the lists / X and y dataset\n",
    "dates = []\n",
    "prices = []"
   ]
  },
  {
   "cell_type": "code",
   "execution_count": 4,
   "metadata": {},
   "outputs": [
    {
     "data": {
      "text/plain": [
       "(20, 7)"
      ]
     },
     "execution_count": 4,
     "metadata": {},
     "output_type": "execute_result"
    }
   ],
   "source": [
    "# Get the number of rows and collumns in the dataset\n",
    "df.shape"
   ]
  },
  {
   "cell_type": "code",
   "execution_count": 5,
   "metadata": {},
   "outputs": [
    {
     "data": {
      "text/html": [
       "<div>\n",
       "<style scoped>\n",
       "    .dataframe tbody tr th:only-of-type {\n",
       "        vertical-align: middle;\n",
       "    }\n",
       "\n",
       "    .dataframe tbody tr th {\n",
       "        vertical-align: top;\n",
       "    }\n",
       "\n",
       "    .dataframe thead th {\n",
       "        text-align: right;\n",
       "    }\n",
       "</style>\n",
       "<table border=\"1\" class=\"dataframe\">\n",
       "  <thead>\n",
       "    <tr style=\"text-align: right;\">\n",
       "      <th></th>\n",
       "      <th>Time</th>\n",
       "      <th>Open</th>\n",
       "      <th>High</th>\n",
       "      <th>Low</th>\n",
       "      <th>Last</th>\n",
       "      <th>Change</th>\n",
       "      <th>Volume</th>\n",
       "    </tr>\n",
       "  </thead>\n",
       "  <tbody>\n",
       "    <tr>\n",
       "      <th>0</th>\n",
       "      <td>5/29/2020</td>\n",
       "      <td>225.2</td>\n",
       "      <td>227.49</td>\n",
       "      <td>222.88</td>\n",
       "      <td>225.09</td>\n",
       "      <td>-0.37</td>\n",
       "      <td>23322400</td>\n",
       "    </tr>\n",
       "  </tbody>\n",
       "</table>\n",
       "</div>"
      ],
      "text/plain": [
       "        Time   Open    High     Low    Last  Change    Volume\n",
       "0  5/29/2020  225.2  227.49  222.88  225.09   -0.37  23322400"
      ]
     },
     "execution_count": 5,
     "metadata": {},
     "output_type": "execute_result"
    }
   ],
   "source": [
    "# Print the last row of data (this will be the one that we test on)\n",
    "df.head(1)"
   ]
  },
  {
   "cell_type": "code",
   "execution_count": 6,
   "metadata": {},
   "outputs": [
    {
     "name": "stdout",
     "output_type": "stream",
     "text": [
      "(19, 7)\n"
     ]
    }
   ],
   "source": [
    "# Get all the data except the last row\n",
    "df = df.head(len(df) - 1)\n",
    "print(df.shape)"
   ]
  },
  {
   "cell_type": "code",
   "execution_count": 7,
   "metadata": {},
   "outputs": [],
   "source": [
    "df_dates = df.loc[:, 'Time'] # Get all of the rows from the date column\n",
    "df_open = df.loc[:, 'Open'] # Get all of the rows from the Open column"
   ]
  },
  {
   "cell_type": "code",
   "execution_count": 8,
   "metadata": {},
   "outputs": [],
   "source": [
    "# Create the independent dataset 'X' as dates\n",
    "for date in df.Time:\n",
    "    dates.append([int(date.split('/')[1])])\n",
    "    \n",
    "# Create the depend dataset 'y' as prices\n",
    "for open_price in df_open:\n",
    "    prices.append(float(open_price))"
   ]
  },
  {
   "cell_type": "code",
   "execution_count": 9,
   "metadata": {},
   "outputs": [
    {
     "name": "stdout",
     "output_type": "stream",
     "text": [
      "[[29], [28], [27], [26], [22], [21], [20], [19], [18], [15], [14], [13], [12], [11], [8], [7], [6], [5], [4]]\n"
     ]
    }
   ],
   "source": [
    "# See what days where recorded in the dateset\n",
    "print(dates)"
   ]
  },
  {
   "cell_type": "code",
   "execution_count": 10,
   "metadata": {},
   "outputs": [],
   "source": [
    "# Function to make predictions using 3 different support vector regression models with 3 diferent kernals\n",
    "def predict_prices(dates, prices, x):\n",
    "    \n",
    "    # Create 3 Support Vector Regression Models\n",
    "    svr_lin = SVR(kernel='linear', C = 1e3)\n",
    "    svr_poly = SVR(kernel='poly', C = 1e3, degree = 2)\n",
    "    svr_rbf = SVR(kernel='rbf', C = 1e3, gamma = 0.1)\n",
    "    \n",
    "    #Train the models on the dates and prices\n",
    "    svr_lin.fit(dates, prices)\n",
    "    svr_poly.fit(dates, prices)\n",
    "    svr_rbf.fit(dates, prices)\n",
    "    \n",
    "    # Plot the model on a graph to see which has the best fit \n",
    "    plt.scatter(dates, prices, color='orange', label='Data')\n",
    "    plt.scatter(dates, svr_rbf.predict(dates), color='red', label='RBF model')\n",
    "    plt.scatter(dates, svr_lin.predict(dates), color='green', label='Linear model')\n",
    "    plt.scatter(dates, svr_poly.predict(dates), color='blue', label='Polynomial model')\n",
    "    plt.xlabel('Date')\n",
    "    plt.ylabel('Price')\n",
    "    plt.title('Support Vector Regression')\n",
    "    plt.legend()\n",
    "    plt.show()\n",
    "    \n",
    "    #returning all three model predictions\n",
    "    return svr_rbf.predict(x)[0], svr_lin.predict(x)[0], svr_poly.predict(x)[0]"
   ]
  },
  {
   "cell_type": "code",
   "execution_count": 11,
   "metadata": {},
   "outputs": [
    {
     "data": {
      "image/png": "[encoded data removed]",
      "text/plain": [
       "<Figure size 432x288 with 1 Axes>"
      ]
     },
     "metadata": {
      "needs_background": "light"
     },
     "output_type": "display_data"
    },
    {
     "name": "stdout",
     "output_type": "stream",
     "text": [
      "(224.47494787399, 226.0575000000411, 234.13523222933458)\n"
     ]
    }
   ],
   "source": [
    "# predict the price of FB on day 30\n",
    "predicted_price = predict_prices(dates, prices, [[30]])\n",
    "print(predicted_price)"
   ]
  },
  {
   "cell_type": "code",
   "execution_count": 12,
   "metadata": {},
   "outputs": [],
   "source": [
    "# As we can see the predictions were pretty close to the price"
   ]
  }
 ],
 "metadata": {
  "kernelspec": {
   "display_name": "Python 3",
   "language": "python",
   "name": "python3"
  },
  "language_info": {
   "codemirror_mode": {
    "name": "ipython",
    "version": 3
   },
   "file_extension": ".py",
   "mimetype": "text/x-python",
   "name": "python",
   "nbconvert_exporter": "python",
   "pygments_lexer": "ipython3",
   "version": "3.7.6"
  }
 },
 "nbformat": 4,
 "nbformat_minor": 4
}
